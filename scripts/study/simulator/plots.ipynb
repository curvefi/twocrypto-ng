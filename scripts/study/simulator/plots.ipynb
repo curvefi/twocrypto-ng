{
 "cells": [
  {
   "cell_type": "code",
   "execution_count": null,
   "id": "0",
   "metadata": {
    "language": "python"
   },
   "outputs": [],
   "source": [
    "import pandas as pd\n",
    "import matplotlib.pyplot as plt\n",
    "import logging\n",
    "import numpy as np\n",
    "import os\n",
    "\n",
    "logger = logging.getLogger(__name__)"
   ]
  },
  {
   "cell_type": "code",
   "execution_count": null,
   "id": "1",
   "metadata": {
    "language": "python"
   },
   "outputs": [],
   "source": [
    "def extract_metric_across_steps(df, metric_base_name, steps):\n",
    "    all_metric_values = []\n",
    "    num_iterations = len(df)\n",
    "    for i in range(num_iterations):\n",
    "        iteration_row = df.iloc[i]\n",
    "        for step_name in steps:\n",
    "            col_name = f\"{step_name}_{metric_base_name}\"\n",
    "            if col_name in df.columns:\n",
    "                value = iteration_row[col_name]\n",
    "                if pd.isna(value):\n",
    "                    all_metric_values.append(np.nan)\n",
    "                else:\n",
    "                    all_metric_values.append(value)\n",
    "            else:\n",
    "                logger.warning(f\"Column '{col_name}' not found for iteration {i}.\")\n",
    "                all_metric_values.append(np.nan)\n",
    "    if not all_metric_values:\n",
    "        logger.error(f\"Could not extract any data for metric '{metric_base_name}'.\")\n",
    "        return None, None\n",
    "    metric_array = np.array(all_metric_values, dtype=float)\n",
    "    x_axis = np.arange(len(metric_array))\n",
    "    return metric_array, x_axis"
   ]
  },
  {
   "cell_type": "code",
   "execution_count": null,
   "id": "2",
   "metadata": {
    "language": "python"
   },
   "outputs": [],
   "source": [
    "def plot_interleaved_metrics(df, steps=None, metrics=None):\n",
    "    if steps is None:\n",
    "        steps = [\"washtrade\", \"claim_fees\", \"remove_liquidity\"]\n",
    "    if metrics is None:\n",
    "        metrics = [\n",
    "            (\"pool_virtual_price\", \"tab:blue\", \"-\", \"Virtual Price\"),\n",
    "            (\"pool_xcp_profit\", \"tab:orange\", \"--\", \"XCP Profit\"),\n",
    "            (\"pool_xcp_profit_a\", \"tab:red\", \"--\", \"XCP Profit\"),\n",
    "        ]\n",
    "    fig, ax = plt.subplots(figsize=(14, 8))\n",
    "    max_iter = len(df)\n",
    "    x_points = []\n",
    "    x_labels = []\n",
    "    all_values = {metric_name: [] for metric_name, _, _, _ in metrics}\n",
    "    for iter_idx in range(max_iter):\n",
    "        for step in steps:\n",
    "            x_idx = len(x_points)\n",
    "            x_points.append(x_idx)\n",
    "            short_step = step[:4] if step != \"claim_fees\" else \"clm\"\n",
    "            x_labels.append(f\"{short_step}({iter_idx})\")\n",
    "            for metric_name, _, _, _ in metrics:\n",
    "                col_name = f\"{step}_{metric_name}\"\n",
    "                if col_name in df.columns:\n",
    "                    value = df.iloc[iter_idx][col_name]\n",
    "                    all_values[metric_name].append(value)\n",
    "                else:\n",
    "                    all_values[metric_name].append(np.nan)\n",
    "    for metric_name, color, linestyle, label in metrics:\n",
    "        ax.plot(\n",
    "            x_points,\n",
    "            all_values[metric_name],\n",
    "            label=label,\n",
    "            color=color,\n",
    "            linestyle=linestyle,\n",
    "            alpha=0.8,\n",
    "        )\n",
    "    ax.set_ylabel(\"Metric Value\")\n",
    "    ax.set_title(\"Pool Metrics Across Sequential Steps\")\n",
    "    ax.grid(True, linestyle=\"-\", alpha=0.7)\n",
    "    ax.legend(loc=\"best\")\n",
    "    fig.tight_layout()\n",
    "    plt.show()"
   ]
  },
  {
   "cell_type": "code",
   "execution_count": null,
   "id": "3",
   "metadata": {
    "language": "python"
   },
   "outputs": [],
   "source": [
    "def plot_remove_liquidity_total_values(df):\n",
    "    fig, ax = plt.subplots(figsize=(12, 6))\n",
    "    step = \"remove_liquidity\"\n",
    "    actors = [\n",
    "        (\"lp_user\", \"tab:blue\", \"LP\"),\n",
    "        (\"trader\", \"tab:orange\", \"Trader\"),\n",
    "        (\"admin\", \"tab:green\", \"Admin\"),\n",
    "    ]\n",
    "    total = np.zeros(len(df))\n",
    "    for actor, color, label in actors:\n",
    "        col = f\"{step}_{actor}_total_value\"\n",
    "        ax.plot(df[\"iteration\"], df[col], label=label, color=color, alpha=0.8)\n",
    "        total += df[col]\n",
    "    ax.plot(df[\"iteration\"], total, label=\"Total\", color=\"tab:red\", alpha=0.8)\n",
    "    ax.set_xlabel(\"Iteration\")\n",
    "    ax.set_ylabel(\"Total Value (in coin0 terms)\")\n",
    "    ax.set_title(\"Total Value at remove_liquidity Step\")\n",
    "    ax.grid(True, linestyle=\"--\", alpha=0.7)\n",
    "    ax.legend(loc=\"best\")\n",
    "    fig.tight_layout()\n",
    "    plt.show()"
   ]
  },
  {
   "cell_type": "code",
   "execution_count": null,
   "id": "4",
   "metadata": {
    "language": "python"
   },
   "outputs": [],
   "source": [
    "# Example usage (run in a separate cell after loading your DataFrame):\n",
    "cur_dir = os.path.dirname(os.path.abspath(\".\")) + \"/simulator/\"\n",
    "csv_filename = os.path.join(cur_dir, \"pool_simulation_results1.csv\")\n",
    "df = pd.read_csv(csv_filename)\n",
    "steps = [\"washtrade\", \"claim_fees\", \"remove_liquidity\"]\n",
    "plot_interleaved_metrics(df, steps)\n",
    "plot_remove_liquidity_total_values(df)"
   ]
  },
  {
   "cell_type": "code",
   "execution_count": null,
   "id": "5",
   "metadata": {},
   "outputs": [],
   "source": []
  }
 ],
 "metadata": {
  "kernelspec": {
   "display_name": ".venv",
   "language": "python",
   "name": "python3"
  },
  "language_info": {
   "codemirror_mode": {
    "name": "ipython",
    "version": 3
   },
   "file_extension": ".py",
   "mimetype": "text/x-python",
   "name": "python",
   "nbconvert_exporter": "python",
   "pygments_lexer": "ipython3",
   "version": "3.12.6"
  }
 },
 "nbformat": 4,
 "nbformat_minor": 5
}
