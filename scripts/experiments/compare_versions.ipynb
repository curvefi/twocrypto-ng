{
 "cells": [
  {
   "cell_type": "code",
   "execution_count": 1,
   "metadata": {},
   "source": [
    "import os\n",
    "import boa\n",
    "import warnings\n",
    "import random\n",
    "import pandas as pd\n",
    "import matplotlib.pyplot as plt\n",
    "warnings.filterwarnings(\"ignore\")"
   ],
   "outputs": []
  },
  {
   "cell_type": "markdown",
   "metadata": {},
   "source": [
    "## Setup"
   ]
  },
  {
   "cell_type": "code",
   "execution_count": 2,
   "metadata": {},
   "source": [
    "filename = \"./impl_comparison_data.csv\""
   ],
   "outputs": []
  },
  {
   "cell_type": "markdown",
   "metadata": {},
   "source": [
    "Generate admin and fee receiver addresses (shared between old and new versions):"
   ]
  },
  {
   "cell_type": "code",
   "execution_count": 3,
   "metadata": {},
   "source": [
    "admin = boa.env.generate_address()\n",
    "fee_receiver = boa.env.generate_address()\n",
    "trader = boa.env.generate_address()\n",
    "zero_address = boa.eval(\"empty(address)\")\n",
    "print(admin, fee_receiver, trader)"
   ],
   "outputs": []
  },
  {
   "cell_type": "markdown",
   "metadata": {},
   "source": [
    "Generate coins and coin holders for trading ..."
   ]
  },
  {
   "cell_type": "code",
   "execution_count": 4,
   "metadata": {},
   "source": [
    "coin_a = boa.load(\"../../contracts/mocks/ERC20Mock.vy\", \"coin_a\", \"coin_a\", 18)\n",
    "coin_b = boa.load(\"../../contracts/mocks/ERC20Mock.vy\", \"coin_b\", \"coin_b\", 18)\n",
    "\n",
    "coin_a._mint_for_testing(trader, 10**50, sender=trader)\n",
    "coin_b._mint_for_testing(trader, 10**50, sender=trader)\n",
    "print(coin_a, coin_b)"
   ],
   "outputs": []
  },
  {
   "cell_type": "markdown",
   "metadata": {},
   "source": [
    "Pool parameters:"
   ]
  },
  {
   "cell_type": "code",
   "execution_count": 5,
   "metadata": {},
   "source": [
    "A = 400000\n",
    "gamma = 145000000000000\n",
    "mid_fee = 26000000\n",
    "out_fee = 45000000\n",
    "allowed_extra_profit = 2000000000000\n",
    "fee_gamma = 230000000000000\n",
    "adjustment_step = 146000000000000\n",
    "ma_time = 600\n",
    "xcp_ma_time = 1800 * 24\n",
    "initial_price = 10**18  # 1:1 at the start\n",
    "admin_fee = 5 * 10**9"
   ],
   "outputs": []
  },
  {
   "cell_type": "markdown",
   "metadata": {},
   "source": [
    "Instantiate contracts for factory:"
   ]
  },
  {
   "cell_type": "code",
   "execution_count": 6,
   "metadata": {},
   "source": [
    "old_swap_implementation = boa.load(\n",
    "    \"../../contracts/old/CurveCryptoSwap2ETH.vy\", \n",
    "    boa.env.generate_address()  # use some random address as weth\n",
    ")\n",
    "old_math = boa.load(\"../../contracts/old/CurveCryptoSwap2Math.vy\")\n",
    "old_token = boa.load(\"../../contracts/old/CurveCryptoLPToken.vy\")\n",
    "\n",
    "with boa.env.prank(admin):\n",
    "    old_factory = boa.load(\n",
    "        \"../../contracts/old/CurveCryptoFactory.vy\",\n",
    "        fee_receiver,\n",
    "        old_swap_implementation,\n",
    "        old_token,\n",
    "        zero_address,\n",
    "        zero_address\n",
    "    )\n",
    "\n",
    "old_swap = old_factory.deploy_pool(\n",
    "    \"old\", \"old\", [coin_a.address, coin_b.address],\n",
    "    A, gamma, mid_fee, out_fee, allowed_extra_profit, fee_gamma, \n",
    "    adjustment_step, admin_fee, ma_time, initial_price\n",
    ")\n",
    "old_swap = boa.load_partial(\"../../contracts/old/CurveCryptoSwap2ETH.vy\").at(old_swap)\n",
    "old_swap_token = boa.load_partial(\"../../contracts/mocks/ERC20Mock.vy\").at(old_swap.token())\n",
    "old_swap, old_swap_token"
   ],
   "outputs": []
  },
  {
   "cell_type": "code",
   "execution_count": 7,
   "metadata": {},
   "source": [
    "ng_swap_implementation = boa.load_partial(\"../../contracts/main/CurveTwocryptoOptimized.vy\")\n",
    "ng_math = boa.load(\"../../contracts/main/CurveCryptoMathOptimized2.vy\")\n",
    "ng_views = boa.load(\"../../contracts/main/CurveCryptoViews2Optimized.vy\")\n",
    "with boa.env.prank(admin):\n",
    "    ng_factory = boa.load(\"../../contracts/main/CurveTwocryptoFactory.vy\")\n",
    "    ng_factory.initialise_ownership(fee_receiver, admin)\n",
    "\n",
    "    ng_factory.set_pool_implementation(ng_swap_implementation.deploy_as_blueprint().address, 0)\n",
    "    ng_factory.set_gauge_implementation(zero_address)\n",
    "    ng_factory.set_views_implementation(ng_views.address)\n",
    "    ng_factory.set_math_implementation(ng_math.address)\n",
    "\n",
    "ng_swap = ng_factory.deploy_pool(\n",
    "    \"ng\", \"ng\", [coin_a.address, coin_b.address],\n",
    "    0, A, gamma, mid_fee, out_fee, fee_gamma, allowed_extra_profit, adjustment_step, int(ma_time/0.693), initial_price\n",
    ")\n",
    "ng_swap = ng_swap_implementation.at(ng_swap)\n",
    "ng_swap"
   ],
   "outputs": []
  },
  {
   "cell_type": "markdown",
   "metadata": {},
   "source": [
    "Grant approvals etc."
   ]
  },
  {
   "cell_type": "code",
   "execution_count": 8,
   "metadata": {},
   "source": [
    "with boa.env.prank(trader):\n",
    "    for coin in [coin_a, coin_b]:\n",
    "        for pool in [old_swap, ng_swap]:\n",
    "            coin.approve(pool, 2**256-1)\n",
    "\n",
    "print(coin_a._storage.allowances.get())\n",
    "print(coin_b._storage.allowances.get())"
   ],
   "outputs": []
  },
  {
   "cell_type": "markdown",
   "metadata": {},
   "source": [
    "Add liquidity:"
   ]
  },
  {
   "cell_type": "code",
   "execution_count": 9,
   "metadata": {},
   "source": [
    "def _get_deposit_amounts(amount_per_token_usd, initial_prices, coins):\n",
    "\n",
    "    precisions = [10 ** coin.decimals() for coin in coins]\n",
    "\n",
    "    deposit_amounts = [\n",
    "        amount_per_token_usd * precision * 10**18 // price\n",
    "        for price, precision in zip(initial_prices, precisions)\n",
    "    ]\n",
    "    return deposit_amounts\n",
    "\n",
    "deposit_amounts = _get_deposit_amounts(10**8, [10**18, initial_price], [coin_a, coin_b])\n",
    "deposit_amounts"
   ],
   "outputs": []
  },
  {
   "cell_type": "code",
   "execution_count": 10,
   "metadata": {},
   "source": [
    "if ng_swap.totalSupply() == 0:\n",
    "    lp_tokens_ng = ng_swap.add_liquidity(deposit_amounts, 0, sender=trader)\n",
    "if old_swap_token.totalSupply() == 0:\n",
    "    lp_tokens_old = old_swap.add_liquidity(deposit_amounts, 0, sender=trader)\n",
    "    \n",
    "lp_tokens_ng - lp_tokens_old"
   ],
   "outputs": []
  },
  {
   "cell_type": "code",
   "execution_count": 11,
   "metadata": {},
   "source": [
    "ng_swap"
   ],
   "outputs": []
  },
  {
   "cell_type": "code",
   "execution_count": 12,
   "metadata": {},
   "source": [
    "old_swap"
   ],
   "outputs": []
  },
  {
   "cell_type": "markdown",
   "metadata": {},
   "source": [
    "## Compare trades"
   ]
  },
  {
   "cell_type": "code",
   "execution_count": 13,
   "metadata": {},
   "source": [
    "num_trades = 10000\n",
    "data = {\n",
    "    \"timestamp\": [],\n",
    "    \"i\": [],\n",
    "    \"in_amt\": [],\n",
    "    \"old_swap_out_amt\": [],\n",
    "    \"ng_swap_out_amt\": [],\n",
    "    \"old_swap_balances_a\": [],\n",
    "    \"old_swap_balances_b\": [],\n",
    "    \"ng_swap_balances_a\": [],\n",
    "    \"ng_swap_balances_b\": [],\n",
    "    \"old_swap_xcp_profit\": [],\n",
    "    \"ng_swap_xcp_profit\": [],\n",
    "    \"old_swap_D\": [],\n",
    "    \"ng_swap_D\": [],\n",
    "    \"old_swap_lp_price\": [],\n",
    "    \"ng_swap_lp_price\": [],\n",
    "    \"old_swap_virtual_price\": [],\n",
    "    \"ng_swap_virtual_price\": [],\n",
    "    \"old_swap_price_scale\": [],\n",
    "    \"old_swap_price_oracle\": [],\n",
    "    \"ng_swap_price_scale\": [],\n",
    "    \"ng_swap_price_oracle\": [],\n",
    "    \"ng_swap_xcp_oracle\": [],\n",
    "    \"old_swap_last_price\": [],\n",
    "    \"ng_swap_last_price\": [],\n",
    "    \"ng_fee_receiver_balances_a\": [],\n",
    "    \"ng_fee_receiver_balances_b\": [],\n",
    "    \"old_fee_receiver_admin_balances\": [],\n",
    "    \"old_swap_totalSupply\": [],\n",
    "    \"ng_swap_totalSupply\": [],\n",
    "    \"old_swap_fee\": [],\n",
    "    \"ng_swap_fee\": [],\n",
    "}"
   ],
   "outputs": []
  },
  {
   "cell_type": "code",
   "execution_count": 14,
   "metadata": {},
   "source": [
    "if not os.path.exists(filename):\n",
    "\n",
    "    coin_precisions = {0: 10**coin_a.decimals(), 1: 10**coin_b.decimals()}\n",
    "\n",
    "    for _ in range(num_trades):\n",
    "        \n",
    "        i = random.randint(0, 1)\n",
    "        trade_amount = random.randint(1, 10**4 * coin_precisions[i])\n",
    "        \n",
    "        out_old = old_swap.exchange(i, 1-i, trade_amount, 0, sender=trader)\n",
    "        out_ng = ng_swap.exchange(i, 1-i, trade_amount, 0, sender=trader)\n",
    "        \n",
    "        # store data:\n",
    "        data[\"timestamp\"].append(boa.env.vm.state.timestamp)\n",
    "        \n",
    "        data[\"old_swap_out_amt\"].append(out_old / coin_precisions[1-i])\n",
    "        data[\"ng_swap_out_amt\"].append(out_ng / coin_precisions[1-1])\n",
    "        data[\"i\"].append(i)\n",
    "        data[\"in_amt\"].append(trade_amount / coin_precisions[i])\n",
    "        \n",
    "        balances = old_swap._storage.balances.get()\n",
    "        data[\"old_swap_balances_a\"].append(balances[0] / coin_precisions[0])\n",
    "        data[\"old_swap_balances_b\"].append(balances[1] / coin_precisions[1])\n",
    "        data[\"old_swap_D\"].append(old_swap._storage.D.get() / 1e18)\n",
    "        data[\"old_swap_xcp_profit\"].append(old_swap._storage.xcp_profit.get() / 1e18)\n",
    "        data[\"old_swap_price_oracle\"].append(old_swap.price_oracle() / 1e18)\n",
    "        data[\"old_swap_price_scale\"].append(old_swap.price_scale() / 1e18)\n",
    "        data[\"old_swap_last_price\"].append(old_swap.last_prices() / 1e18)\n",
    "        data[\"old_swap_virtual_price\"].append(old_swap.virtual_price() / 1e18)\n",
    "        data[\"old_swap_lp_price\"].append(old_swap.lp_price() / 1e18)\n",
    "        data[\"old_fee_receiver_admin_balances\"].append(old_swap_token.balanceOf(fee_receiver))\n",
    "        data[\"old_swap_totalSupply\"].append(old_swap_token._storage.totalSupply.get())\n",
    "        data[\"old_swap_fee\"].append(old_swap.fee())\n",
    "        \n",
    "        balances = ng_swap._storage.balances.get()\n",
    "        data[\"ng_swap_balances_a\"].append(balances[0] / coin_precisions[0])\n",
    "        data[\"ng_swap_balances_b\"].append(balances[1] / coin_precisions[1])\n",
    "        data[\"ng_swap_D\"].append(ng_swap._storage.D.get() / 1e18)\n",
    "        data[\"ng_swap_xcp_profit\"].append(ng_swap._storage.xcp_profit.get() / 1e18)\n",
    "        data[\"ng_swap_price_oracle\"].append(ng_swap.price_oracle() / 1e18)\n",
    "        data[\"ng_swap_xcp_oracle\"].append(ng_swap.xcp_oracle() / 1e18)\n",
    "        data[\"ng_swap_price_scale\"].append(ng_swap.price_scale() / 1e18)\n",
    "        data[\"ng_swap_last_price\"].append(ng_swap.last_prices() / 1e18)\n",
    "        data[\"ng_swap_virtual_price\"].append(ng_swap.virtual_price() / 1e18)\n",
    "        data[\"ng_swap_lp_price\"].append(ng_swap.lp_price() / 1e18)\n",
    "        data[\"ng_swap_totalSupply\"] = ng_swap._storage.totalSupply.get()\n",
    "        data[\"ng_swap_fee\"].append(ng_swap.fee())\n",
    "\n",
    "        with boa.env.anchor():\n",
    "            ng_swap.remove_liquidity_one_coin(10**18, i, 0, sender=trader)\n",
    "            data[\"ng_fee_receiver_balances_a\"].append(coin_a.balanceOf(fee_receiver) / coin_precisions[0])\n",
    "            data[\"ng_fee_receiver_balances_b\"].append(coin_b.balanceOf(fee_receiver) / coin_precisions[1])\n",
    "        \n",
    "        boa.env.time_travel(random.randint(1, 1000))\n",
    "        \n",
    "    df = pd.DataFrame(data)\n",
    "    df.set_index(\"timestamp\", inplace=True)\n",
    "    \n",
    "else:\n",
    "    \n",
    "    df = pd.read_csv(filename, index_col=\"timestamp\")\n",
    "\n",
    "df\n",
    "    "
   ],
   "outputs": []
  },
  {
   "cell_type": "code",
   "execution_count": 15,
   "metadata": {},
   "source": [
    "if not os.path.exists(filename):\n",
    "    df.to_csv(filename)"
   ],
   "outputs": []
  },
  {
   "cell_type": "markdown",
   "metadata": {},
   "source": [
    "Comparisons:\n",
    "\n",
    "1. Differences in outputs\n",
    "2. Differences Price oracle updates\n",
    "3. Differences in price scale updates\n",
    "4. Differences in abs(price_scale - price_oracle)\n",
    "5. Differences in pool balances\n",
    "6. Differences in D\n",
    "7. Differences in xcp profit\n",
    "8. Differences in admin balances"
   ]
  },
  {
   "cell_type": "code",
   "execution_count": 16,
   "metadata": {},
   "source": [
    "def print_diff(loc):\n",
    "    \n",
    "    calc_diff = lambda x: print(f\"{x}: \" + str(df.loc[loc, f\"old_swap_{x}\"] - df.loc[loc, f\"ng_swap_{x}\"]))\n",
    "    i = df.loc[loc, \"i\"]\n",
    "    print(f\"Traded {i} > {1-i}, in amount: {df.loc[loc, 'in_amt']}\")\n",
    "    print(\"Difference between old_swap and ng_swap:\")\n",
    "    \n",
    "    calc_diff(\"out_amt\")\n",
    "    calc_diff(\"balances_a\")\n",
    "    calc_diff(\"balances_b\")\n",
    "    calc_diff(\"D\")\n",
    "    calc_diff(\"xcp_profit\")\n",
    "    calc_diff(\"virtual_price\")\n",
    "    calc_diff(\"last_price\")\n",
    "    calc_diff(\"price_oracle\")\n",
    "    calc_diff(\"price_scale\")\n",
    "    calc_diff(\"lp_price\")"
   ],
   "outputs": []
  },
  {
   "cell_type": "code",
   "execution_count": 17,
   "metadata": {},
   "source": [
    "fig, ax = plt.subplots(2, 2, figsize=(16, 9))\n",
    "df[[\"old_swap_last_price\", \"ng_swap_last_price\"]].plot(ax=ax[0][0], legend=False, ylabel=\"last_price\")\n",
    "df[[\"old_swap_price_oracle\", \"ng_swap_price_oracle\"]].plot(ax=ax[0][1], legend=False, ylabel=\"price_oracle\")\n",
    "df[[\"old_swap_price_scale\", \"ng_swap_price_scale\"]].plot(ax=ax[1][0], legend=False, ylabel=\"price_scale\")\n",
    "df[[\"old_swap_virtual_price\", \"ng_swap_virtual_price\"]].plot(ax=ax[1][1], legend=False, ylabel=\"virtual_price\")\n",
    "\n",
    "fig.suptitle(\"blue=old, orange=ng\")"
   ],
   "outputs": []
  },
  {
   "cell_type": "markdown",
   "metadata": {},
   "source": [
    "It seems ng is more 'stable' ? let's compare scale deltas"
   ]
  },
  {
   "cell_type": "code",
   "execution_count": 18,
   "metadata": {},
   "source": [
    "ng_swap_scale_delta = df.ng_swap_price_oracle - df.ng_swap_price_scale\n",
    "old_swap_scale_delta = df.old_swap_price_oracle - df.old_swap_price_scale\n",
    "\n",
    "fig, ax = plt.subplots(1, 2, figsize=(12, 4))\n",
    "ng_swap_scale_delta.plot(color='r', ax=ax[0])\n",
    "old_swap_scale_delta.plot(color='b', ax=ax[1])\n"
   ],
   "outputs": []
  },
  {
   "cell_type": "code",
   "execution_count": 19,
   "metadata": {},
   "source": [
    "fig, ax = plt.subplots(1, 1,)\n",
    "old_swap_scale_delta.plot.hist(ax=ax, bins=50, color='r')\n",
    "ng_swap_scale_delta.plot.hist(ax=ax, bins=50, color='b', alpha=0.5)\n",
    "ax.set_xlabel(\"Scale delta (price_scale - price_oracle)\")"
   ],
   "outputs": []
  },
  {
   "cell_type": "code",
   "execution_count": 20,
   "metadata": {},
   "source": [
    "diff_output = (df.old_swap_out_amt).astype(float) - (df.ng_swap_out_amt).astype(float)\n",
    "diff_output.plot()"
   ],
   "outputs": []
  },
  {
   "cell_type": "markdown",
   "metadata": {},
   "source": [
    "The old implementation's price_scale changes more frequently whereas ng implementation's price scale does not do that as frequently. \n",
    "\n",
    "This is why we see such a difference in output swap amounts between the two implementations. This is not to say that the price scale in ng implementation does not change whatsoever: it does but not that often"
   ]
  },
  {
   "cell_type": "code",
   "execution_count": 31,
   "metadata": {},
   "source": [
    "fig, ax = plt.subplots(2, 2, figsize=(16, 9))\n",
    "df[[\"old_swap_D\", \"ng_swap_D\"]].plot(ax=ax[0][0], legend=False, ylabel=\"D\")\n",
    "df[[\"old_swap_xcp_profit\", \"ng_swap_xcp_profit\"]].plot(ax=ax[0][1], legend=False, ylabel=\"xcp_profit\")\n",
    "df[[\"old_swap_lp_price\", \"ng_swap_lp_price\"]].plot(ax=ax[1][0], legend=False, ylabel=\"lp_price\")\n",
    "df[[\"old_swap_fee\", \"ng_swap_fee\"]].plot.hist(bins=50, alpha=0.5, ax=ax[1][1], legend=False, ylabel=\"fee\")\n",
    "\n",
    "fig.suptitle(\"blue=old, orange=ng\")"
   ],
   "outputs": []
  },
  {
   "cell_type": "code",
   "execution_count": 22,
   "metadata": {},
   "source": [
    "ng_swap.lp_price()"
   ],
   "outputs": []
  },
  {
   "cell_type": "code",
   "execution_count": 23,
   "metadata": {},
   "source": [
    "sum(ng_swap._storage.balances.get()) / ng_swap.totalSupply()"
   ],
   "outputs": []
  },
  {
   "cell_type": "markdown",
   "metadata": {},
   "source": [
    "How much admin fees are collected?"
   ]
  },
  {
   "cell_type": "code",
   "execution_count": 24,
   "metadata": {},
   "source": [
    "with boa.env.anchor():\n",
    "    ng_swap.remove_liquidity_one_coin(10**18, i, 0, sender=trader)\n",
    "    coin_a_bal = coin_a.balanceOf(fee_receiver) / coin_precisions[0]\n",
    "    coin_b_bal = coin_b.balanceOf(fee_receiver) / coin_precisions[1]\n",
    "    \n",
    "print(\"ng_swap:\", coin_a_bal, coin_b_bal)"
   ],
   "outputs": []
  },
  {
   "cell_type": "code",
   "execution_count": 25,
   "metadata": {},
   "source": [
    "with boa.env.anchor():\n",
    "    old_swap.remove_liquidity(old_swap_token.balanceOf(fee_receiver), [0, 0], sender=fee_receiver)\n",
    "    coin_a_bal = coin_a.balanceOf(fee_receiver) / coin_precisions[0]\n",
    "    coin_b_bal = coin_b.balanceOf(fee_receiver) / coin_precisions[1]\n",
    "    \n",
    "print(\"old_swap:\", coin_a_bal, coin_b_bal)"
   ],
   "outputs": []
  },
  {
   "cell_type": "code",
   "execution_count": 26,
   "metadata": {},
   "source": [
    "ng_swap.fee()"
   ],
   "outputs": []
  },
  {
   "cell_type": "code",
   "execution_count": 27,
   "metadata": {},
   "source": [
    "old_swap.fee()"
   ],
   "outputs": []
  },
  {
   "cell_type": "markdown",
   "metadata": {},
   "source": [
    "Fee in ng pool is overall lower because of how state prices are calculated, which explains why ng_swap has marginally lower fee collected than the old implementation."
   ]
  },
  {
   "cell_type": "code",
   "execution_count": null,
   "metadata": {},
   "source": [],
   "outputs": []
  }
 ],
 "metadata": {
  "kernelspec": {
   "display_name": "venv",
   "language": "python",
   "name": "python3"
  },
  "language_info": {
   "codemirror_mode": {
    "name": "ipython",
    "version": 3
   },
   "file_extension": ".py",
   "mimetype": "text/x-python",
   "name": "python",
   "nbconvert_exporter": "python",
   "pygments_lexer": "ipython3",
   "version": "3.10.4"
  }
 },
 "nbformat": 4,
 "nbformat_minor": 2
}
